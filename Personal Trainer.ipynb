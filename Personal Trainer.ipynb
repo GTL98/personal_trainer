{
 "cells": [
  {
   "cell_type": "markdown",
   "metadata": {},
   "source": [
    "***A aula explicando o passo a passo e o módulo para esse projeto estão no diretório: https://github.com/GTL98/curso-completo-de-visao-computacional-avancada-com-python***"
   ]
  },
  {
   "cell_type": "markdown",
   "metadata": {},
   "source": [
    "### Importar as bibliotecas"
   ]
  },
  {
   "cell_type": "code",
   "execution_count": 1,
   "metadata": {},
   "outputs": [],
   "source": [
    "import cv2\n",
    "import numpy as np\n",
    "import time\n",
    "import estimativa_pose as ep"
   ]
  },
  {
   "cell_type": "markdown",
   "metadata": {},
   "source": [
    "### Definir o tamanho da tela"
   ]
  },
  {
   "cell_type": "code",
   "execution_count": 2,
   "metadata": {},
   "outputs": [],
   "source": [
    "largura_tela = 640\n",
    "altura_tela = 480"
   ]
  },
  {
   "cell_type": "markdown",
   "metadata": {},
   "source": [
    "### Taxa de frame (FPS)"
   ]
  },
  {
   "cell_type": "code",
   "execution_count": 18,
   "metadata": {},
   "outputs": [],
   "source": [
    "tempo_atual = 0\n",
    "tempo_anterior = 0"
   ]
  },
  {
   "cell_type": "markdown",
   "metadata": {},
   "source": [
    "### Módulo `DetectorPose`"
   ]
  },
  {
   "cell_type": "code",
   "execution_count": 3,
   "metadata": {},
   "outputs": [],
   "source": [
    "detector = ep.DetectorPose(deteccao_confianca=0.75, rastreamento_confianca=0.75)"
   ]
  },
  {
   "cell_type": "markdown",
   "metadata": {},
   "source": [
    "### Repetições e movimento completo"
   ]
  },
  {
   "cell_type": "code",
   "execution_count": 13,
   "metadata": {},
   "outputs": [],
   "source": [
    "repeticoes = 0\n",
    "completo = 0"
   ]
  },
  {
   "cell_type": "markdown",
   "metadata": {},
   "source": [
    "### Captura de vídeo"
   ]
  },
  {
   "cell_type": "code",
   "execution_count": 94,
   "metadata": {},
   "outputs": [],
   "source": [
    "cap = cv2.VideoCapture(0)\n",
    "cap.set(3, largura_tela)  # 3 para informar a largura\n",
    "cap.set(4, altura_tela)  # 4 para informar a altura\n",
    "lado = 0\n",
    "\n",
    "while True:\n",
    "    sucesso, imagem = cap.read()\n",
    "    imagem = cv2.resize(imagem, (largura_tela, altura_tela))\n",
    "    imagem = detector.encontrar_pose(imagem, False)\n",
    "    lista_landmark = detector.encontrar_posicao(imagem, False)\n",
    "    \n",
    "    # Pegar as landmarks que usaremos\n",
    "    if lista_landmark:\n",
    "        if lado == 0:\n",
    "            # Braço esquerdo\n",
    "            angulo = detector.encontrar_angulo(imagem, 11, 13, 15)\n",
    "            porcentagem = np.interp(angulo, [200, 310], [0, 100])\n",
    "            barra = np.interp(angulo, [205, 305], [370, 120])\n",
    "            \n",
    "            # Checar as repetições\n",
    "            cor = (255, 0, 255)\n",
    "            if porcentagem == 100:\n",
    "                cor = (0, 255, 0)\n",
    "                if completo == 1:\n",
    "                    repeticoes += 0.5\n",
    "                    completo = 0\n",
    "            if porcentagem == 0:\n",
    "                cor = (0, 255, 0)\n",
    "                if completo == 0:\n",
    "                    repeticoes += 0.5\n",
    "                    completo = 1\n",
    "                \n",
    "            # Desenhar o retângulo da porcentagem do movimento\n",
    "            cv2.rectangle(imagem, (30, 120), (65, 370), cor, 3)\n",
    "            \n",
    "            # Desenhar o preenchimento da porcentagem do movimento\n",
    "            cv2.rectangle(imagem, (30, int(barra)), (65, 370), cor, cv2.FILLED)\n",
    "            \n",
    "            # Escrever a porcentagem da barra\n",
    "            cv2.putText(imagem, f'{int(porcentagem)}%', (40, 100), cv2.FONT_HERSHEY_PLAIN, 3, cor, 3)\n",
    "                \n",
    "            # Colocar o retângulo onde será mostrado o número de repetições\n",
    "            cv2.rectangle(imagem, (480, 400), (640, 480), (0, 0, 0), cv2.FILLED)\n",
    "            \n",
    "            # Colocar o número de repetições no retângulo\n",
    "            cv2.putText(imagem, f'{int(repeticoes)}', (490 ,470), cv2.FONT_HERSHEY_PLAIN, 5, (255, 255, 255), 10)\n",
    "        \n",
    "        elif lado == 1:\n",
    "            # Braço direito\n",
    "            angulo = detector.encontrar_angulo(imagem, 12, 14, 16)\n",
    "            porcentagem = np.interp(angulo, [50, 170], [100, 0])\n",
    "            barra = np.interp(angulo, [50, 170], [120, 370])\n",
    "            \n",
    "            # Checar as repetições\n",
    "            cor = (255, 0, 255)\n",
    "            if porcentagem == 100:\n",
    "                cor = (0, 255, 0)\n",
    "                if completo == 1:\n",
    "                    repeticoes += 0.5\n",
    "                    completo = 0\n",
    "            if porcentagem == 0:\n",
    "                cor = (0, 255, 0)\n",
    "                if completo == 0:\n",
    "                    repeticoes += 0.5\n",
    "                    completo = 1\n",
    "                \n",
    "            # Desenhar o retângulo da porcentagem do movimento\n",
    "            cv2.rectangle(imagem, (30, 120), (65, 370), cor, 3)\n",
    "            \n",
    "            # Desenhar o preenchimento da porcentagem do movimento\n",
    "            cv2.rectangle(imagem, (30, int(barra)), (65, 370), cor, cv2.FILLED)\n",
    "            \n",
    "            # Escrever a porcentagem da barra\n",
    "            cv2.putText(imagem, f'{int(porcentagem)}%', (40, 100), cv2.FONT_HERSHEY_PLAIN, 3, cor, 3)\n",
    "                \n",
    "            # Colocar o retângulo onde será mostrado o número de repetições\n",
    "            cv2.rectangle(imagem, (480, 400), (640, 480), (0, 0, 0), cv2.FILLED)\n",
    "            \n",
    "            # Colocar o número de repetições no retângulo\n",
    "            cv2.putText(imagem, f'{int(repeticoes)}', (490 ,470), cv2.FONT_HERSHEY_PLAIN, 5, (255, 255, 255), 10)\n",
    "            \n",
    "    # Configurar o FPS\n",
    "    tempo_atual = time.time()\n",
    "    fps = 1/(tempo_atual - tempo_anterior)\n",
    "    tempo_anterior = tempo_atual\n",
    "    \n",
    "    # Mostrar o FPS na tela\n",
    "    cv2.putText(imagem, f'FPS: {int(fps)}', (425, 50), cv2.FONT_HERSHEY_PLAIN, 3, (255, 0, 0), 3)\n",
    "    \n",
    "    # Mostrar a imagem na tela\n",
    "    cv2.imshow('Imagem', imagem)\n",
    "    \n",
    "    # Terminar o loop\n",
    "    if cv2.waitKey(1) & 0xFF == ord('s'):\n",
    "        repeticoes = 0\n",
    "        completo = 0\n",
    "        break\n",
    "        \n",
    "# Fechar a tela de captura\n",
    "cap.release()\n",
    "cv2.destroyAllWindows()"
   ]
  }
 ],
 "metadata": {
  "kernelspec": {
   "display_name": "Python 3",
   "language": "python",
   "name": "python3"
  },
  "language_info": {
   "codemirror_mode": {
    "name": "ipython",
    "version": 3
   },
   "file_extension": ".py",
   "mimetype": "text/x-python",
   "name": "python",
   "nbconvert_exporter": "python",
   "pygments_lexer": "ipython3",
   "version": "3.8.5"
  }
 },
 "nbformat": 4,
 "nbformat_minor": 4
}
